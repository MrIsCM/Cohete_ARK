{
 "cells": [
  {
   "cell_type": "markdown",
   "metadata": {},
   "source": [
    "Calculos de comprobación."
   ]
  },
  {
   "cell_type": "code",
   "execution_count": 7,
   "metadata": {},
   "outputs": [],
   "source": [
    "import numpy as np"
   ]
  },
  {
   "cell_type": "code",
   "execution_count": 72,
   "metadata": {},
   "outputs": [
    {
     "name": "stdout",
     "output_type": "stream",
     "text": [
      "Condiciones iniciales: r =0.016592507804370448\n",
      " phi = -1.0471975511965976\n",
      " p_r=1.0116776505954445e-05\n",
      " p_phi=2.9074671319671225e-07\n"
     ]
    }
   ],
   "source": [
    "# Condiciones iniciales\n",
    "\n",
    "Rt = 6.37816E6\n",
    "Dtl = 3.844E8\n",
    "# r\n",
    "r = Rt/Dtl\n",
    "\n",
    "# Phi\n",
    "phi = -np.pi/3\n",
    "theta = np.pi/3\n",
    "\n",
    "v = 28000*10/36\n",
    "v = v/Dtl\n",
    "\n",
    "#  P_r\n",
    "pr = v*0.5\n",
    "\n",
    "# P_phi\n",
    "pphi = r*v*np.sin(theta-phi)\n",
    "\n",
    "print(f\"Condiciones iniciales: r ={r}\\n phi = {phi}\\n p_r={pr}\\n p_phi={pphi}\")"
   ]
  },
  {
   "cell_type": "code",
   "execution_count": 48,
   "metadata": {},
   "outputs": [],
   "source": [
    "t = 0\n",
    "h = 60"
   ]
  },
  {
   "cell_type": "code",
   "execution_count": 49,
   "metadata": {},
   "outputs": [],
   "source": [
    "def rdot(r,phi,pr,pphi,t):\n",
    "\treturn pr"
   ]
  },
  {
   "cell_type": "code",
   "execution_count": 73,
   "metadata": {},
   "outputs": [
    {
     "data": {
      "text/plain": [
       "0.06336391505273277"
      ]
     },
     "execution_count": 73,
     "metadata": {},
     "output_type": "execute_result"
    }
   ],
   "source": [
    "def phidot(r,phi,pr,pphi, t):\n",
    "\treturn (pphi/r**2)\n",
    "\n",
    "60*phidot(r, phi, pr, pphi,t)"
   ]
  },
  {
   "cell_type": "code",
   "execution_count": 77,
   "metadata": {},
   "outputs": [],
   "source": [
    "def prdot(r,phi,pr,pphi, t):\n",
    "\tG = 6.67E-11\n",
    "\tMt = 5.9736E24\n",
    "\tMl = 0.07349E24\n",
    "\tDelta = G*Mt/Dtl\n",
    "\tmu = Ml/Mt\n",
    "\tw = 2.6617E-6\n",
    "\trtil = np.sqrt(1+r**2-2*r*np.cos(phi-w*t))\n",
    "\treturn pphi**2 / r**3 - Delta*(1/r**2 + mu/rtil**3 * (r-np.cos(phi-w*t)))"
   ]
  },
  {
   "cell_type": "code",
   "execution_count": 47,
   "metadata": {},
   "outputs": [],
   "source": [
    "def pphidot(r,phi,pr,pphi, t):\n",
    "\tG = 6.67E-11\n",
    "\tMt = 5.9736E24\n",
    "\tMl = 0.07349E24\n",
    "\tDelta = G*Mt/Dtl\n",
    "\tmu = Ml/Mt\n",
    "\tw = 2.6617E-6\n",
    "\trtil = np.sqrt(1+r**2-2*r*np.cos(phi-w*t))\n",
    "\treturn - Delta*mu*r*np.sin(phi-w*t)/rtil**3"
   ]
  },
  {
   "cell_type": "code",
   "execution_count": 65,
   "metadata": {},
   "outputs": [
    {
     "name": "stdout",
     "output_type": "stream",
     "text": [
      "[ 6.07006590e-04  6.33639151e-02 -2.25894186e+11  1.12689122e+04]\n"
     ]
    }
   ],
   "source": [
    "K1 = np.zeros(4)\n",
    "K1[0] = h* rdot(r,phi,pr,pphi,t)\n",
    "K1[1] = h* phidot(r,phi,pr,pphi,t)\n",
    "K1[2] = h* prdot(r,phi,pr,pphi,t)\n",
    "K1[3] = h* pphidot(r,phi,pr,pphi,t)\n",
    "print(K1)"
   ]
  },
  {
   "cell_type": "code",
   "execution_count": 66,
   "metadata": {},
   "outputs": [
    {
     "name": "stdout",
     "output_type": "stream",
     "text": [
      "[-6.77682558e+12  1.18422678e+09  3.94696296e+14  1.12807767e+04]\n"
     ]
    }
   ],
   "source": [
    "K2 = np.zeros(4)\n",
    "K2[0] = h* rdot(r+0.5*K1[0],phi+0.5*K1[1],pr+0.5*K1[2],pphi+0.5*K1[3],t+0.5*h)\n",
    "K2[1] = h* phidot(r+0.5*K1[0],phi+0.5*K1[1],pr+0.5*K1[2],pphi+0.5*K1[3],t+0.5*h)\n",
    "K2[2] = h* prdot(r+0.5*K1[0],phi+0.5*K1[1],pr+0.5*K1[2],pphi+0.5*K1[3],t+0.5*h)\n",
    "K2[3] = h* pphidot(r+0.5*K1[0],phi+0.5*K1[1],pr+0.5*K1[2],pphi+0.5*K1[3],t+0.5*h)\n",
    "print(K2)"
   ]
  },
  {
   "cell_type": "code",
   "execution_count": 67,
   "metadata": {},
   "outputs": [
    {
     "name": "stdout",
     "output_type": "stream",
     "text": [
      "[ 1.18408889e+16  2.94759379e-20 -5.35009124e-18 -5.34845864e-20]\n"
     ]
    }
   ],
   "source": [
    "K3 = np.zeros(4)\n",
    "K3[0] = h* rdot(r+0.5*K2[0],phi+0.5*K2[1],pr+0.5*K2[2],pphi+0.5*K2[3],t+0.5*h)\n",
    "K3[1] = h* phidot(r+0.5*K2[0],phi+0.5*K2[1],pr+0.5*K2[2],pphi+0.5*K2[3],t+0.5*h)\n",
    "K3[2] = h* prdot(r+0.5*K2[0],phi+0.5*K2[1],pr+0.5*K2[2],pphi+0.5*K2[3],t+0.5*h)\n",
    "K3[3] = h* pphidot(r+0.5*K2[0],phi+0.5*K2[1],pr+0.5*K2[2],pphi+0.5*K2[3],t+0.5*h)\n",
    "print(K3)"
   ]
  },
  {
   "cell_type": "code",
   "execution_count": 68,
   "metadata": {},
   "outputs": [
    {
     "name": "stdout",
     "output_type": "stream",
     "text": [
      "[ 6.07006590e-04  1.24422079e-37 -4.49026038e-25  4.72632964e-27]\n"
     ]
    }
   ],
   "source": [
    "K4 = np.zeros(4)\n",
    "K4[0] = h* rdot(r+K3[0],phi+K3[1],pr+K3[2],pphi+K3[3],t+h)\n",
    "K4[1] = h* phidot(r+K3[0],phi+K3[1],pr+K3[2],pphi+K3[3],t+h)\n",
    "K4[2] = h* prdot(r+K3[0],phi+K3[1],pr+K3[2],pphi+K3[3],t+h)\n",
    "K4[3] = h* pphidot(r+K3[0],phi+K3[1],pr+K3[2],pphi+K3[3],t+h)\n",
    "print(K4)"
   ]
  },
  {
   "cell_type": "code",
   "execution_count": 63,
   "metadata": {},
   "outputs": [
    {
     "data": {
      "text/plain": [
       "3944704022859739.5"
      ]
     },
     "execution_count": 63,
     "metadata": {},
     "output_type": "execute_result"
    }
   ],
   "source": [
    "r = r + (K1[0]+2*K2[0]+2*K3[0]+K4[0])/6\n",
    "r"
   ]
  }
 ],
 "metadata": {
  "interpreter": {
   "hash": "2b160fb5c86085bd9939ea70871e34e8e520574631b7232ae22e31d2fa0dd375"
  },
  "kernelspec": {
   "display_name": "Python 3.9.10 64-bit",
   "language": "python",
   "name": "python3"
  },
  "language_info": {
   "codemirror_mode": {
    "name": "ipython",
    "version": 3
   },
   "file_extension": ".py",
   "mimetype": "text/x-python",
   "name": "python",
   "nbconvert_exporter": "python",
   "pygments_lexer": "ipython3",
   "version": "3.9.10"
  },
  "orig_nbformat": 4
 },
 "nbformat": 4,
 "nbformat_minor": 2
}
